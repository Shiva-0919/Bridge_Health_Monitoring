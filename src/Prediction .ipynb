{
 "cells": [
  {
   "cell_type": "code",
   "execution_count": 1,
   "metadata": {},
   "outputs": [],
   "source": [
    "import pandas as pd \n",
    "import numpy as np\n",
    "import tensorflow as tf\n",
    "from tensorflow import keras\n",
    "import matplotlib.pyplot as plt\n"
   ]
  },
  {
   "cell_type": "code",
   "execution_count": 2,
   "metadata": {},
   "outputs": [],
   "source": [
    "df = pd.read_csv('preprocessed.csv', index_col = 0)"
   ]
  },
  {
   "cell_type": "code",
   "execution_count": 3,
   "metadata": {},
   "outputs": [
    {
     "data": {
      "text/html": [
       "<div>\n",
       "<style scoped>\n",
       "    .dataframe tbody tr th:only-of-type {\n",
       "        vertical-align: middle;\n",
       "    }\n",
       "\n",
       "    .dataframe tbody tr th {\n",
       "        vertical-align: top;\n",
       "    }\n",
       "\n",
       "    .dataframe thead th {\n",
       "        text-align: right;\n",
       "    }\n",
       "</style>\n",
       "<table border=\"1\" class=\"dataframe\">\n",
       "  <thead>\n",
       "    <tr style=\"text-align: right;\">\n",
       "      <th></th>\n",
       "      <th>ax(g)</th>\n",
       "      <th>ay(g)</th>\n",
       "      <th>az(g)</th>\n",
       "      <th>wx(deg/s)</th>\n",
       "      <th>wy(deg/s)</th>\n",
       "      <th>wz(deg/s)</th>\n",
       "      <th>AngleX(deg)</th>\n",
       "      <th>AngleY(deg)</th>\n",
       "      <th>AngleZ(deg)</th>\n",
       "    </tr>\n",
       "    <tr>\n",
       "      <th>rtime</th>\n",
       "      <th></th>\n",
       "      <th></th>\n",
       "      <th></th>\n",
       "      <th></th>\n",
       "      <th></th>\n",
       "      <th></th>\n",
       "      <th></th>\n",
       "      <th></th>\n",
       "      <th></th>\n",
       "    </tr>\n",
       "  </thead>\n",
       "  <tbody>\n",
       "    <tr>\n",
       "      <th>2019-12-06 09:45:00.000</th>\n",
       "      <td>0.9961</td>\n",
       "      <td>0.0146</td>\n",
       "      <td>-0.0034</td>\n",
       "      <td>0.0</td>\n",
       "      <td>0.0</td>\n",
       "      <td>0.0</td>\n",
       "      <td>49.988</td>\n",
       "      <td>-88.781</td>\n",
       "      <td>-177.660</td>\n",
       "    </tr>\n",
       "    <tr>\n",
       "      <th>2019-12-06 09:45:00.100</th>\n",
       "      <td>0.9976</td>\n",
       "      <td>0.0176</td>\n",
       "      <td>0.0015</td>\n",
       "      <td>0.0</td>\n",
       "      <td>0.0</td>\n",
       "      <td>0.0</td>\n",
       "      <td>51.993</td>\n",
       "      <td>-88.813</td>\n",
       "      <td>-179.577</td>\n",
       "    </tr>\n",
       "    <tr>\n",
       "      <th>2019-12-06 09:45:00.200</th>\n",
       "      <td>1.0059</td>\n",
       "      <td>0.0151</td>\n",
       "      <td>0.0176</td>\n",
       "      <td>0.0</td>\n",
       "      <td>0.0</td>\n",
       "      <td>0.0</td>\n",
       "      <td>51.987</td>\n",
       "      <td>-88.813</td>\n",
       "      <td>-179.478</td>\n",
       "    </tr>\n",
       "    <tr>\n",
       "      <th>2019-12-06 09:45:00.300</th>\n",
       "      <td>1.0063</td>\n",
       "      <td>0.0171</td>\n",
       "      <td>0.0137</td>\n",
       "      <td>0.0</td>\n",
       "      <td>0.0</td>\n",
       "      <td>0.0</td>\n",
       "      <td>51.976</td>\n",
       "      <td>-88.808</td>\n",
       "      <td>-179.412</td>\n",
       "    </tr>\n",
       "    <tr>\n",
       "      <th>2019-12-06 09:45:00.400</th>\n",
       "      <td>1.0049</td>\n",
       "      <td>0.0171</td>\n",
       "      <td>0.0054</td>\n",
       "      <td>0.0</td>\n",
       "      <td>0.0</td>\n",
       "      <td>0.0</td>\n",
       "      <td>53.481</td>\n",
       "      <td>-88.835</td>\n",
       "      <td>179.149</td>\n",
       "    </tr>\n",
       "  </tbody>\n",
       "</table>\n",
       "</div>"
      ],
      "text/plain": [
       "                          ax(g)   ay(g)   az(g)  wx(deg/s)  wy(deg/s)  \\\n",
       "rtime                                                                   \n",
       "2019-12-06 09:45:00.000  0.9961  0.0146 -0.0034        0.0        0.0   \n",
       "2019-12-06 09:45:00.100  0.9976  0.0176  0.0015        0.0        0.0   \n",
       "2019-12-06 09:45:00.200  1.0059  0.0151  0.0176        0.0        0.0   \n",
       "2019-12-06 09:45:00.300  1.0063  0.0171  0.0137        0.0        0.0   \n",
       "2019-12-06 09:45:00.400  1.0049  0.0171  0.0054        0.0        0.0   \n",
       "\n",
       "                         wz(deg/s)  AngleX(deg)  AngleY(deg)  AngleZ(deg)   \n",
       "rtime                                                                       \n",
       "2019-12-06 09:45:00.000        0.0       49.988      -88.781      -177.660  \n",
       "2019-12-06 09:45:00.100        0.0       51.993      -88.813      -179.577  \n",
       "2019-12-06 09:45:00.200        0.0       51.987      -88.813      -179.478  \n",
       "2019-12-06 09:45:00.300        0.0       51.976      -88.808      -179.412  \n",
       "2019-12-06 09:45:00.400        0.0       53.481      -88.835       179.149  "
      ]
     },
     "execution_count": 3,
     "metadata": {},
     "output_type": "execute_result"
    }
   ],
   "source": [
    "df.head()\n"
   ]
  },
  {
   "cell_type": "code",
   "execution_count": 4,
   "metadata": {},
   "outputs": [],
   "source": [
    "ax_data = df['ax(g)']"
   ]
  },
  {
   "cell_type": "code",
   "execution_count": 5,
   "metadata": {},
   "outputs": [
    {
     "data": {
      "text/plain": [
       "rtime\n",
       "2019-12-06 09:45:00.000    0.9961\n",
       "2019-12-06 09:45:00.100    0.9976\n",
       "2019-12-06 09:45:00.200    1.0059\n",
       "2019-12-06 09:45:00.300    1.0063\n",
       "2019-12-06 09:45:00.400    1.0049\n",
       "Name: ax(g), dtype: float64"
      ]
     },
     "execution_count": 5,
     "metadata": {},
     "output_type": "execute_result"
    }
   ],
   "source": [
    "ax_data.head()"
   ]
  },
  {
   "cell_type": "code",
   "execution_count": 6,
   "metadata": {},
   "outputs": [],
   "source": [
    "train_size = int(len(ax_data) * 0.8)"
   ]
  },
  {
   "cell_type": "code",
   "execution_count": 7,
   "metadata": {},
   "outputs": [],
   "source": [
    "test_size = len(ax_data) - train_size"
   ]
  },
  {
   "cell_type": "code",
   "execution_count": 8,
   "metadata": {},
   "outputs": [],
   "source": [
    "train, test = ax_data[0:train_size], ax_data[train_size:len(df)]"
   ]
  },
  {
   "cell_type": "code",
   "execution_count": 9,
   "metadata": {},
   "outputs": [
    {
     "data": {
      "text/plain": [
       "rtime\n",
       "2019-12-06 09:45:00.000    0.9961\n",
       "2019-12-06 09:45:00.100    0.9976\n",
       "2019-12-06 09:45:00.200    1.0059\n",
       "2019-12-06 09:45:00.300    1.0063\n",
       "2019-12-06 09:45:00.400    1.0049\n",
       "Name: ax(g), dtype: float64"
      ]
     },
     "execution_count": 9,
     "metadata": {},
     "output_type": "execute_result"
    }
   ],
   "source": [
    "train.head()"
   ]
  },
  {
   "cell_type": "code",
   "execution_count": 10,
   "metadata": {},
   "outputs": [
    {
     "name": "stdout",
     "output_type": "stream",
     "text": [
      "1630688 407673\n"
     ]
    }
   ],
   "source": [
    "print(len(train), len(test))"
   ]
  },
  {
   "cell_type": "code",
   "execution_count": 11,
   "metadata": {},
   "outputs": [],
   "source": [
    "def create_dataset(dataset,look_back=1):\n",
    "    Xs, ys = [], []\n",
    "    dataset = np.array(dataset)\n",
    "    for i in range(len(dataset) - look_back - 1):\n",
    "        v= dataset[i:(i + look_back)]\n",
    "        Xs.append(v)\n",
    "        ys.append(dataset[(i + look_back)])\n",
    "    return np.array(Xs), np.array(ys)"
   ]
  },
  {
   "cell_type": "code",
   "execution_count": 12,
   "metadata": {},
   "outputs": [],
   "source": [
    "look_back = 10"
   ]
  },
  {
   "cell_type": "code",
   "execution_count": 13,
   "metadata": {},
   "outputs": [
    {
     "data": {
      "text/plain": [
       "(1630688,)"
      ]
     },
     "execution_count": 13,
     "metadata": {},
     "output_type": "execute_result"
    }
   ],
   "source": [
    "train.shape"
   ]
  },
  {
   "cell_type": "code",
   "execution_count": 14,
   "metadata": {},
   "outputs": [
    {
     "name": "stdout",
     "output_type": "stream",
     "text": [
      "(1630677, 10) (1630677,)\n"
     ]
    }
   ],
   "source": [
    "X_train, y_train = create_dataset(train, look_back)\n",
    "X_test, y_test = create_dataset(test, look_back)\n",
    "\n",
    "print(X_train.shape, y_train.shape)"
   ]
  },
  {
   "cell_type": "code",
   "execution_count": 15,
   "metadata": {},
   "outputs": [
    {
     "data": {
      "text/plain": [
       "array([[1.0054, 1.0015, 1.001 , 1.    , 1.0024, 1.0029, 0.9985, 1.    ,\n",
       "        0.9961, 0.9976],\n",
       "       [1.0015, 1.001 , 1.    , 1.0024, 1.0029, 0.9985, 1.    , 0.9961,\n",
       "        0.9976, 0.9995],\n",
       "       [1.001 , 1.    , 1.0024, 1.0029, 0.9985, 1.    , 0.9961, 0.9976,\n",
       "        0.9995, 1.    ],\n",
       "       [1.    , 1.0024, 1.0029, 0.9985, 1.    , 0.9961, 0.9976, 0.9995,\n",
       "        1.    , 1.0005]])"
      ]
     },
     "execution_count": 15,
     "metadata": {},
     "output_type": "execute_result"
    }
   ],
   "source": [
    "# X_train[1:5]\n",
    "X_test[1:5]"
   ]
  },
  {
   "cell_type": "code",
   "execution_count": 16,
   "metadata": {},
   "outputs": [],
   "source": [
    "X_train = np.reshape(X_train, (X_train.shape[0],1,X_train.shape[1]))\n",
    "X_test = np.reshape(X_test, (X_test.shape[0],1,X_test.shape[1]))"
   ]
  },
  {
   "cell_type": "code",
   "execution_count": 17,
   "metadata": {},
   "outputs": [
    {
     "data": {
      "text/plain": [
       "array([[[1.001 , 1.002 , 1.0039, 1.0024, 1.0049, 1.0068, 0.9995, 1.0039,\n",
       "         1.002 , 1.001 ]],\n",
       "\n",
       "       [[1.002 , 1.0039, 1.0024, 1.0049, 1.0068, 0.9995, 1.0039, 1.002 ,\n",
       "         1.001 , 1.0068]],\n",
       "\n",
       "       [[1.0039, 1.0024, 1.0049, 1.0068, 0.9995, 1.0039, 1.002 , 1.001 ,\n",
       "         1.0068, 1.    ]],\n",
       "\n",
       "       [[1.0024, 1.0049, 1.0068, 0.9995, 1.0039, 1.002 , 1.001 , 1.0068,\n",
       "         1.    , 1.0054]],\n",
       "\n",
       "       [[1.0049, 1.0068, 0.9995, 1.0039, 1.002 , 1.001 , 1.0068, 1.    ,\n",
       "         1.0054, 1.0044]]])"
      ]
     },
     "execution_count": 17,
     "metadata": {},
     "output_type": "execute_result"
    }
   ],
   "source": [
    "X_train[-5:]"
   ]
  },
  {
   "cell_type": "markdown",
   "metadata": {},
   "source": [
    "# **Modelling Using LSTM**"
   ]
  },
  {
   "cell_type": "code",
   "execution_count": 18,
   "metadata": {},
   "outputs": [],
   "source": [
    "model = keras.Sequential()\n",
    "model.add(keras.layers.LSTM(units = 128, input_shape = (1,look_back)))\n"
   ]
  },
  {
   "cell_type": "code",
   "execution_count": 19,
   "metadata": {},
   "outputs": [
    {
     "name": "stdout",
     "output_type": "stream",
     "text": [
      "Train on 999 samples\n",
      "999/999 - 8s - loss: 0.0071\n"
     ]
    },
    {
     "data": {
      "text/plain": [
       "<tensorflow.python.keras.callbacks.History at 0x7f7f02bfc400>"
      ]
     },
     "execution_count": 19,
     "metadata": {},
     "output_type": "execute_result"
    }
   ],
   "source": [
    "model.add(keras.layers.Dense(units=1))\n",
    "model.compile(loss='mean_squared_error',optimizer=keras.optimizers.Adam(0.001))\n",
    "model.fit(X_train[1:1000], y_train[1:1000], epochs = 1, batch_size=1, verbose=2)"
   ]
  },
  {
   "cell_type": "code",
   "execution_count": 20,
   "metadata": {},
   "outputs": [],
   "source": [
    "train_predict = model.predict(X_train[1:10000])\n",
    "test_predict = model.predict(X_test[1:10000])\n"
   ]
  },
  {
   "cell_type": "code",
   "execution_count": 21,
   "metadata": {},
   "outputs": [
    {
     "name": "stdout",
     "output_type": "stream",
     "text": [
      "Train Mean Absolute Error: tf.Tensor(0.0033242095, shape=(), dtype=float32)\n",
      "Train Root Mean Squared Error: 0.003443502\n",
      "Test Mean Absolute Error: tf.Tensor(0.0014868005, shape=(), dtype=float32)\n",
      "Test Root Mean Squared Error: 0.0017503308\n"
     ]
    }
   ],
   "source": [
    "print('Train Mean Absolute Error:', keras.losses.MAE(y_train[0], train_predict[:,0]))\n",
    "print('Train Root Mean Squared Error:',np.sqrt(keras.losses.MSE(y_train[0], train_predict[:,0])))\n",
    "print('Test Mean Absolute Error:', keras.losses.MAE(y_test[0], test_predict[:,0]))\n",
    "print('Test Root Mean Squared Error:',np.sqrt(keras.losses.MSE(y_test[0], test_predict[:,0])))"
   ]
  },
  {
   "cell_type": "code",
   "execution_count": 22,
   "metadata": {},
   "outputs": [
    {
     "data": {
      "image/png": "[encoded data removed]",
      "text/plain": [
       "<Figure size 576x288 with 1 Axes>"
      ]
     },
     "metadata": {
      "needs_background": "light"
     },
     "output_type": "display_data"
    }
   ],
   "source": [
    "aa=[x for x in range(200)]\n",
    "plt.figure(figsize=(8,4))\n",
    "plt.plot(aa, y_test[:200], marker='.', label=\"actual\")\n",
    "plt.plot(aa, test_predict[:,0][:200], 'r', label=\"prediction\")\n",
    "# plt.tick_params(left=False, labelleft=True) #remove ticks\n",
    "plt.tight_layout()\n",
    "plt.subplots_adjust(left=0.07)\n",
    "plt.ylabel('ax(g)', size=15)\n",
    "plt.xlabel('Time step', size=15)\n",
    "plt.legend(fontsize=15)\n",
    "plt.show();"
   ]
  },
  {
   "cell_type": "code",
   "execution_count": null,
   "metadata": {},
   "outputs": [],
   "source": []
  }
 ],
 "metadata": {
  "kernelspec": {
   "display_name": "Python 3",
   "language": "python",
   "name": "python3"
  },
  "language_info": {
   "codemirror_mode": {
    "name": "ipython",
    "version": 3
   },
   "file_extension": ".py",
   "mimetype": "text/x-python",
   "name": "python",
   "nbconvert_exporter": "python",
   "pygments_lexer": "ipython3",
   "version": "3.7.3"
  }
 },
 "nbformat": 4,
 "nbformat_minor": 2
}
